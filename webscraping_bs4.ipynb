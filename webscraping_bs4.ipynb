{
  "nbformat": 4,
  "nbformat_minor": 0,
  "metadata": {
    "colab": {
      "provenance": [],
      "authorship_tag": "ABX9TyNwqCnHmp4CNWz6Vdg8plpC",
      "include_colab_link": true
    },
    "kernelspec": {
      "name": "python3",
      "display_name": "Python 3"
    },
    "language_info": {
      "name": "python"
    }
  },
  "cells": [
    {
      "cell_type": "markdown",
      "metadata": {
        "id": "view-in-github",
        "colab_type": "text"
      },
      "source": [
        "<a href=\"https://colab.research.google.com/github/gyasifred/webscraping-with-BeautifulSoup-Scrapy-and-Selenium/blob/main/webscraping_bs4.ipynb\" target=\"_parent\"><img src=\"https://colab.research.google.com/assets/colab-badge.svg\" alt=\"Open In Colab\"/></a>"
      ]
    },
    {
      "cell_type": "markdown",
      "source": [
        "For this tutorial, we will be performing webscraping  with **Beautiful Soup** and **request**"
      ],
      "metadata": {
        "id": "xfl9A1aE5LZq"
      }
    },
    {
      "cell_type": "markdown",
      "source": [
        "### install dependencies"
      ],
      "metadata": {
        "id": "rv4P3DWq6Opo"
      }
    },
    {
      "cell_type": "code",
      "source": [
        "!pip install bs4\n",
        "!pip install requests\n",
        "!pip install lxml"
      ],
      "metadata": {
        "colab": {
          "base_uri": "https://localhost:8080/"
        },
        "id": "1BAwyPdc6UsF",
        "outputId": "15fafe4a-1fe4-489c-b7c2-3bebde3b2940"
      },
      "execution_count": 2,
      "outputs": [
        {
          "output_type": "stream",
          "name": "stdout",
          "text": [
            "Collecting bs4\n",
            "  Downloading bs4-0.0.1.tar.gz (1.1 kB)\n",
            "  Preparing metadata (setup.py) ... \u001b[?25l\u001b[?25hdone\n",
            "Requirement already satisfied: beautifulsoup4 in /usr/local/lib/python3.10/dist-packages (from bs4) (4.11.2)\n",
            "Requirement already satisfied: soupsieve>1.2 in /usr/local/lib/python3.10/dist-packages (from beautifulsoup4->bs4) (2.4.1)\n",
            "Building wheels for collected packages: bs4\n",
            "  Building wheel for bs4 (setup.py) ... \u001b[?25l\u001b[?25hdone\n",
            "  Created wheel for bs4: filename=bs4-0.0.1-py3-none-any.whl size=1256 sha256=e3cb4a74897e6803be1a58676c4faf8475671dbd2ed98c968fa580354528bafc\n",
            "  Stored in directory: /root/.cache/pip/wheels/25/42/45/b773edc52acb16cd2db4cf1a0b47117e2f69bb4eb300ed0e70\n",
            "Successfully built bs4\n",
            "Installing collected packages: bs4\n",
            "Successfully installed bs4-0.0.1\n",
            "Requirement already satisfied: requests in /usr/local/lib/python3.10/dist-packages (2.31.0)\n",
            "Requirement already satisfied: charset-normalizer<4,>=2 in /usr/local/lib/python3.10/dist-packages (from requests) (3.2.0)\n",
            "Requirement already satisfied: idna<4,>=2.5 in /usr/local/lib/python3.10/dist-packages (from requests) (3.4)\n",
            "Requirement already satisfied: urllib3<3,>=1.21.1 in /usr/local/lib/python3.10/dist-packages (from requests) (2.0.4)\n",
            "Requirement already satisfied: certifi>=2017.4.17 in /usr/local/lib/python3.10/dist-packages (from requests) (2023.7.22)\n",
            "Requirement already satisfied: lxml in /usr/local/lib/python3.10/dist-packages (4.9.3)\n"
          ]
        }
      ]
    },
    {
      "cell_type": "code",
      "execution_count": 3,
      "metadata": {
        "id": "ebXr32yB4-q5"
      },
      "outputs": [],
      "source": [
        "import requests\n",
        "from bs4 import BeautifulSoup"
      ]
    },
    {
      "cell_type": "markdown",
      "source": [
        "## Scraping a single file"
      ],
      "metadata": {
        "id": "etJGoD5o3z5y"
      }
    },
    {
      "cell_type": "code",
      "source": [
        "website = \"https://subslikescript.com/movie/Titanic-120338\"\n",
        "result = requests.get(website)\n",
        "content = result.text\n",
        "soup = BeautifulSoup(content, \"lxml\")\n",
        "#print(soup.prettify())\n",
        "# Locate the box that contains title and transcript\n",
        "box =soup.find(\"article\", class_ = 'main-article')\n",
        "# locate the title\n",
        "title = box.find(\"h1\").get_text()\n",
        "# get transcript\n",
        "transcript = box.find(\"div\", class_=\"full-script\").get_text(strip=True, separator=' ')\n",
        "# export to a text file\n",
        "with open(f'{title}.txt', \"w\") as fh:\n",
        "  fh.write(transcript)\n"
      ],
      "metadata": {
        "id": "4ggXIi6i53Qi"
      },
      "execution_count": 4,
      "outputs": []
    },
    {
      "cell_type": "markdown",
      "source": [
        "## Scraping Multiple pages"
      ],
      "metadata": {
        "id": "2Dv8t8jH_ofM"
      }
    },
    {
      "cell_type": "code",
      "source": [
        "root = \"https://subslikescript.com\"\n",
        "website = f'{root}/movies'\n",
        "results = requests.get(website)\n",
        "content = results.text\n",
        "soup = BeautifulSoup(content, \"lxml\")\n",
        "box = soup.find(\"article\", class_= \"main-article\")"
      ],
      "metadata": {
        "id": "r-NyVn4x_HPQ"
      },
      "execution_count": 5,
      "outputs": []
    },
    {
      "cell_type": "code",
      "source": [
        "links = []\n",
        "for link in box.find_all('a', href=True):\n",
        "  links.append(link['href'])"
      ],
      "metadata": {
        "id": "fARVv4ynBhR1"
      },
      "execution_count": 6,
      "outputs": []
    },
    {
      "cell_type": "code",
      "source": [
        "for link in links:\n",
        "  results = requests.get(f'{root}/{link}')\n",
        "  content = results.text\n",
        "  soup = BeautifulSoup(content, \"lxml\")\n",
        "  box = soup.find(\"article\", class_= \"main-article\")\n",
        "  title = box.find('h1').get_text()\n",
        "  title = ''.join(title.split('/'))\n",
        "  transcript = box.find('div', class_='full-script').get_text(strip=True, separator=' ')\n",
        "   # Exporting data in a text file with the \"title\" name\n",
        "  with open(f'{title}.txt', 'w') as file:\n",
        "    file.write(transcript)"
      ],
      "metadata": {
        "id": "NipVZAMDD-Q1"
      },
      "execution_count": 7,
      "outputs": []
    },
    {
      "cell_type": "markdown",
      "source": [
        "## Pagination"
      ],
      "metadata": {
        "id": "Op0if6OiHpkd"
      }
    },
    {
      "cell_type": "code",
      "source": [
        "root = \"https://subslikescript.com\"\n",
        "website = f'{root}/movies_letter-A'\n",
        "results = requests.get(website)\n",
        "content = results.text\n",
        "soup = BeautifulSoup(content, \"lxml\")\n",
        "# Locate the box that contains the pagination bar\n",
        "pagination = soup.find('ul', class_='pagination')\n",
        "pages = pagination.find_all('li', class_='page-item')\n",
        "last_page = pages[-2].text  # this is the number of pages that the website has inside the movies \"letter X\" section\n",
        "\n",
        "for page in range(1, int(last_page) + 1):\n",
        "   result = requests.get(f'{website}?page={page}')\n",
        "   content = result.text\n",
        "   soup = BeautifulSoup(content, 'lxml')\n",
        "\n",
        "   # Locate the box that contains a list of movies\n",
        "   box = soup.find('article', class_='main-article')\n",
        "   # Store each link in \"links\" list (href doesn't consider root aka \"homepage\", so we have to concatenate it later)\n",
        "   links = []\n",
        "   for link in box.find_all('a', href=True):  # find_all returns a list\n",
        "        links.append(link['href'])\n",
        "   for link in links:\n",
        "        try:  # \"try the code below. if something goes wrong, go to the \"except\" block\"\n",
        "            result = requests.get(f'{root}/{link}')  # structure --> https://subslikescript.com/movie/X-Men_2-290334\n",
        "            content = result.text\n",
        "            soup = BeautifulSoup(content, 'lxml')\n",
        "\n",
        "            # Locate the box that contains title and transcript\n",
        "            box = soup.find('article', class_='main-article')\n",
        "            # Locate title and transcript\n",
        "            title = box.find('h1').get_text()\n",
        "            transcript = box.find('div', class_='full-script').get_text(strip=True, separator=' ')\n",
        "\n",
        "            # Exporting data in a text file with the \"title\" name\n",
        "            with open(f'{title}.txt', 'w') as file:\n",
        "                file.write(transcript)\n",
        "        except:\n",
        "            print('------ Link not working -------')\n",
        "            print(link)\n",
        "\n"
      ],
      "metadata": {
        "id": "kN88aANqHsSY",
        "colab": {
          "base_uri": "https://localhost:8080/"
        },
        "outputId": "f24b2421-0ceb-4aab-fec9-37660fd4dbb5"
      },
      "execution_count": null,
      "outputs": [
        {
          "output_type": "stream",
          "name": "stdout",
          "text": [
            "------ Link not working -------\n",
            "movie/Aka_Tommy_Chong-478090\n",
            "------ Link not working -------\n",
            "movie/Abby_SingerSongwriter-4587588\n",
            "------ Link not working -------\n",
            "movie/ACDC_Let_There_Be_Rock-80321\n",
            "------ Link not working -------\n",
            "movie/AfterburnAftershock-7116248\n"
          ]
        }
      ]
    }
  ]
}
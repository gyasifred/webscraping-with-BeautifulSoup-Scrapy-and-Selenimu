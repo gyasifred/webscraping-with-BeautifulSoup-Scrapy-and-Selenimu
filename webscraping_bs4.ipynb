{
  "nbformat": 4,
  "nbformat_minor": 0,
  "metadata": {
    "colab": {
      "provenance": [],
      "authorship_tag": "ABX9TyN1LfYv6MCUQA/SIo5wh2kY",
      "include_colab_link": true
    },
    "kernelspec": {
      "name": "python3",
      "display_name": "Python 3"
    },
    "language_info": {
      "name": "python"
    }
  },
  "cells": [
    {
      "cell_type": "markdown",
      "metadata": {
        "id": "view-in-github",
        "colab_type": "text"
      },
      "source": [
        "<a href=\"https://colab.research.google.com/github/gyasifred/webscraping-with-BeautifulSoup-Scrapy-and-Selenimu/blob/main/webscraping_bs4.ipynb\" target=\"_parent\"><img src=\"https://colab.research.google.com/assets/colab-badge.svg\" alt=\"Open In Colab\"/></a>"
      ]
    },
    {
      "cell_type": "markdown",
      "source": [
        "For this tutorial, we will be performing webscraping  with **Beautiful Soup** and **request**"
      ],
      "metadata": {
        "id": "xfl9A1aE5LZq"
      }
    },
    {
      "cell_type": "markdown",
      "source": [
        "### install dependencies"
      ],
      "metadata": {
        "id": "rv4P3DWq6Opo"
      }
    },
    {
      "cell_type": "code",
      "source": [
        "!pip install bs4\n",
        "!pip install requests\n",
        "!pip install lxml"
      ],
      "metadata": {
        "colab": {
          "base_uri": "https://localhost:8080/"
        },
        "id": "1BAwyPdc6UsF",
        "outputId": "af26117e-c7c1-498b-c492-77a31367de41"
      },
      "execution_count": 4,
      "outputs": [
        {
          "output_type": "stream",
          "name": "stdout",
          "text": [
            "Looking in indexes: https://pypi.org/simple, https://us-python.pkg.dev/colab-wheels/public/simple/\n",
            "Collecting bs4\n",
            "  Downloading bs4-0.0.1.tar.gz (1.1 kB)\n",
            "  Preparing metadata (setup.py) ... \u001b[?25l\u001b[?25hdone\n",
            "Requirement already satisfied: beautifulsoup4 in /usr/local/lib/python3.10/dist-packages (from bs4) (4.11.2)\n",
            "Requirement already satisfied: soupsieve>1.2 in /usr/local/lib/python3.10/dist-packages (from beautifulsoup4->bs4) (2.4.1)\n",
            "Building wheels for collected packages: bs4\n",
            "  Building wheel for bs4 (setup.py) ... \u001b[?25l\u001b[?25hdone\n",
            "  Created wheel for bs4: filename=bs4-0.0.1-py3-none-any.whl size=1257 sha256=e79d76311bf361f2273dbb0361802689b42d7be5280b99177f6178d87bed6e76\n",
            "  Stored in directory: /root/.cache/pip/wheels/25/42/45/b773edc52acb16cd2db4cf1a0b47117e2f69bb4eb300ed0e70\n",
            "Successfully built bs4\n",
            "Installing collected packages: bs4\n",
            "Successfully installed bs4-0.0.1\n",
            "Looking in indexes: https://pypi.org/simple, https://us-python.pkg.dev/colab-wheels/public/simple/\n",
            "Requirement already satisfied: requests in /usr/local/lib/python3.10/dist-packages (2.27.1)\n",
            "Requirement already satisfied: urllib3<1.27,>=1.21.1 in /usr/local/lib/python3.10/dist-packages (from requests) (1.26.15)\n",
            "Requirement already satisfied: certifi>=2017.4.17 in /usr/local/lib/python3.10/dist-packages (from requests) (2022.12.7)\n",
            "Requirement already satisfied: charset-normalizer~=2.0.0 in /usr/local/lib/python3.10/dist-packages (from requests) (2.0.12)\n",
            "Requirement already satisfied: idna<4,>=2.5 in /usr/local/lib/python3.10/dist-packages (from requests) (3.4)\n",
            "Looking in indexes: https://pypi.org/simple, https://us-python.pkg.dev/colab-wheels/public/simple/\n",
            "Requirement already satisfied: lxml in /usr/local/lib/python3.10/dist-packages (4.9.2)\n"
          ]
        }
      ]
    },
    {
      "cell_type": "code",
      "execution_count": 3,
      "metadata": {
        "id": "ebXr32yB4-q5"
      },
      "outputs": [],
      "source": [
        "import requests\n",
        "from bs4 import BeautifulSoup"
      ]
    },
    {
      "cell_type": "code",
      "source": [
        "website = \"https://subslikescript.com/movie/Titanic-120338\"\n",
        "result = requests.get(website)\n",
        "content = result.text\n",
        "soup = BeautifulSoup(content, \"lxml\")\n",
        "#print(soup.prettify())\n",
        "# Locate the box that contains title and transcript\n",
        "box =soup.find(\"article\", class_ = 'main-article')\n",
        "# locate the title\n",
        "title = box.find(\"h1\").get_text()\n",
        "# get transcript\n",
        "transcript = box.find(\"div\", class_=\"full-script\").get_text(strip=True, separator=' ')\n",
        "# export to a text file\n",
        "with open(f'{title}.txt', \"w\") as fh:\n",
        "  fh.write(transcript)\n"
      ],
      "metadata": {
        "id": "4ggXIi6i53Qi"
      },
      "execution_count": 6,
      "outputs": []
    },
    {
      "cell_type": "markdown",
      "source": [
        "## Scraping Multiple pages"
      ],
      "metadata": {
        "id": "2Dv8t8jH_ofM"
      }
    },
    {
      "cell_type": "code",
      "source": [
        "root = \"https://subslikescript.com\"\n",
        "website = f'{root}/movies'\n",
        "results = requests.get(website)\n",
        "content = results.text\n",
        "soup = BeautifulSoup(content, \"lxml\")\n",
        "box = soup.find(\"article\", class_= \"main-article\")"
      ],
      "metadata": {
        "id": "r-NyVn4x_HPQ"
      },
      "execution_count": 40,
      "outputs": []
    },
    {
      "cell_type": "code",
      "source": [
        "links = []\n",
        "for link in box.find_all('a', href=True):\n",
        "  links.append(link['href'])"
      ],
      "metadata": {
        "id": "fARVv4ynBhR1"
      },
      "execution_count": 41,
      "outputs": []
    },
    {
      "cell_type": "code",
      "source": [
        "for link in links:\n",
        "  results = requests.get(f'{root}/{link}')\n",
        "  content = results.text\n",
        "  soup = BeautifulSoup(content, \"lxml\")\n",
        "  box = soup.find(\"article\", class_= \"main-article\")\n",
        "  title = box.find('h1').get_text()\n",
        "  title = ''.join(title.split('/'))\n",
        "  transcript = box.find('div', class_='full-script').get_text(strip=True, separator=' ')\n",
        "   # Exporting data in a text file with the \"title\" name\n",
        "  with open(f'{title}.txt', 'w') as file:\n",
        "    file.write(transcript)"
      ],
      "metadata": {
        "id": "NipVZAMDD-Q1"
      },
      "execution_count": 43,
      "outputs": []
    },
    {
      "cell_type": "markdown",
      "source": [
        "## Pagination"
      ],
      "metadata": {
        "id": "Op0if6OiHpkd"
      }
    },
    {
      "cell_type": "code",
      "source": [],
      "metadata": {
        "id": "kN88aANqHsSY"
      },
      "execution_count": null,
      "outputs": []
    }
  ]
}